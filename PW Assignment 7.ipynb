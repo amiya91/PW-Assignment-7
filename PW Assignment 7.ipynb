{
 "cells": [
  {
   "cell_type": "raw",
   "id": "0fddba87-bd46-49f3-a40e-a59f36e69da1",
   "metadata": {},
   "source": [
    "Q1. What is Abstraction in OOPs? Explain with an example."
   ]
  },
  {
   "cell_type": "raw",
   "id": "1d3c0794-82b1-4768-b4b6-40ec81c132de",
   "metadata": {},
   "source": [
    ">>> In object-oriented programming (OOP), abstraction is a concept that allows us to simplify complex systems by focusing on the essential features and ignoring the unnecessary details.\n",
    ">>> To understand abstraction, let's consider the example of a car. When we think about a car, we don't need to know all the technical details related to mechanical engineering. Instead, we focus on the general layman aspects that are relevant to us, such as driving, accelerating, and braking.\n",
    ">>> In OOP, we can create an abstract representation of a car using a class. A class is like a blueprint or template that describes the common properties and behaviors of objects. For our car example, we could have a \"Car\" class that includes attributes like the number of wheels, color, and brand, as well as methods (functions) like \"start,\" \"accelerate,\" and \"brake.\n",
    ">>> By using this abstraction, we can create multiple instances (objects) of the \"Car\" class that represent different cars in the real world. Each object will have its own specific values for attributes like color and brand, but they will all share the same methods to perform common actions like starting, accelerating, and braking."
   ]
  },
  {
   "cell_type": "code",
   "execution_count": 8,
   "id": "11636b8f-265f-49d6-a93c-da58150d55d3",
   "metadata": {},
   "outputs": [],
   "source": [
    "class Person:\n",
    "    def __init__(self, name):\n",
    "        self.name = name\n",
    "\n",
    "    def say_hello(self):\n",
    "        pass"
   ]
  },
  {
   "cell_type": "code",
   "execution_count": 9,
   "id": "29ff8f0c-f960-4360-85f6-2e7ac369a441",
   "metadata": {},
   "outputs": [],
   "source": [
    "class Student(Person):\n",
    "    def say_hello(self):\n",
    "        print(\"Hello, I am a student!\")"
   ]
  },
  {
   "cell_type": "code",
   "execution_count": 10,
   "id": "d4f22801-8ce4-4b96-90e3-98179168d640",
   "metadata": {},
   "outputs": [
    {
     "name": "stdout",
     "output_type": "stream",
     "text": [
      "Hello, I am a student!\n"
     ]
    }
   ],
   "source": [
    "student = Student(\"Alice\")\n",
    "student.say_hello()"
   ]
  },
  {
   "cell_type": "raw",
   "id": "e9892da3-d8be-41fc-9682-f833fceb8f47",
   "metadata": {},
   "source": [
    "Q2. Differentiate between Abstraction and Encapsulation. Explain with an example."
   ]
  },
  {
   "cell_type": "raw",
   "id": "d61b1508-6211-4681-95cf-552ac3a4b864",
   "metadata": {},
   "source": [
    "Abstraction:\n",
    "Abstraction is about representing complex systems in a simplified way by focusing on essential features and hiding unnecessary details. It allows us to create models or representations that capture the common aspects of objects or concepts, while ignoring the specific implementation details. Abstraction helps in managing complexity and makes it easier to work with objects at a higher level of understanding."
   ]
  },
  {
   "cell_type": "raw",
   "id": "4c437c47-fdf1-4828-b5ff-b83438198c94",
   "metadata": {},
   "source": [
    "Encapsulation:\n",
    "Encapsulation is about bundling related data (attributes) and behaviors (methods) together within an object, and restricting access to the inner workings of the object. It ensures that the object's internal state is controlled and accessed only through well-defined interfaces. Encapsulation helps in achieving data hiding, modularity, and maintaining the integrity of the object."
   ]
  },
  {
   "cell_type": "code",
   "execution_count": 11,
   "id": "b2747819-893e-403f-b0a6-7c5691b678e0",
   "metadata": {},
   "outputs": [
    {
     "name": "stdout",
     "output_type": "stream",
     "text": [
      "1300\n"
     ]
    }
   ],
   "source": [
    "#Encapsulation\n",
    "class BankAccount:\n",
    "    def __init__(self, account_number, initial_balance):\n",
    "        self._account_number = account_number\n",
    "        self._balance = initial_balance\n",
    "\n",
    "    def deposit(self, amount):\n",
    "        self._balance += amount\n",
    "\n",
    "    def withdraw(self, amount):\n",
    "        if amount <= self._balance:\n",
    "            self._balance -= amount\n",
    "        else:\n",
    "            print(\"Insufficient balance\")\n",
    "\n",
    "    def get_balance(self):\n",
    "        return self._balance\n",
    "\n",
    "\n",
    "account = BankAccount(\"123456789\", 1000)\n",
    "account.deposit(500)\n",
    "account.withdraw(200)\n",
    "balance = account.get_balance()\n",
    "print(balance)"
   ]
  },
  {
   "cell_type": "code",
   "execution_count": 19,
   "id": "4ab5cb3d-323f-461e-93c6-716f16975d0e",
   "metadata": {},
   "outputs": [
    {
     "name": "stdout",
     "output_type": "stream",
     "text": [
      "20\n",
      "28.26\n"
     ]
    }
   ],
   "source": [
    "class Shape(ABC):\n",
    "    @abstractmethod\n",
    "    def calculate_area(self):\n",
    "        pass\n",
    "\n",
    "class Rectangle(Shape):\n",
    "    def __init__(self, length, width):\n",
    "        self.length = length\n",
    "        self.width = width\n",
    "\n",
    "    def calculate_area(self):\n",
    "        return self.length * self.width\n",
    "\n",
    "class Circle(Shape):\n",
    "    def __init__(self, radius):\n",
    "        self.radius = radius\n",
    "\n",
    "    def calculate_area(self):\n",
    "        return 3.14 * self.radius ** 2\n",
    "\n",
    "rectangle = Rectangle(4, 5)\n",
    "circle = Circle(3)\n",
    "\n",
    "print(rectangle.calculate_area())\n",
    "print(circle.calculate_area())"
   ]
  },
  {
   "cell_type": "raw",
   "id": "320298c4-a2b9-43a2-905e-ca77c60950d0",
   "metadata": {},
   "source": [
    "Q3. What is abc module in python? Why is it used?"
   ]
  },
  {
   "cell_type": "raw",
   "id": "9a19b45e-67e6-4b03-b763-2a01a9573591",
   "metadata": {},
   "source": [
    ">>> The abc module in Python stands for \"Abstract Base Classes.\" It provides a mechanism to define abstract classes and abstract methods in Python. An abstract class is a class that cannot be instantiated directly but serves as a blueprint for creating concrete (non-abstract) subclasses.\n",
    "\n",
    "The abc module is used to enforce certain rules and structure in object-oriented programming. It allows you to define abstract methods, which are methods without an implementation, in an abstract class. Subclasses of the abstract class must provide their own implementation for these abstract methods."
   ]
  },
  {
   "cell_type": "raw",
   "id": "db0f5222-9c92-4a26-aad6-38c4f15e35de",
   "metadata": {},
   "source": [
    ">>> The abc module is used for the following purposes:\n",
    "\n",
    ">>Defining abstract classes: You can use the ABC class provided by the abc module as a base class to define an abstract class. An abstract class cannot be instantiated directly and usually contains one or more abstract methods.\n",
    "\n",
    ">>Defining abstract methods: The abstractmethod decorator from the abc module is used to indicate that a method in an abstract class is abstract and must be implemented by any concrete subclass.\n",
    "\n",
    ">>Enforcing structure and contracts: Abstract classes help enforce a certain structure and contract among related classes. They define a common interface and behavior that concrete subclasses must adhere to. This helps in maintaining consistency and clarity in the codebase."
   ]
  },
  {
   "cell_type": "raw",
   "id": "c42615b7-4b47-4998-a60c-c07c70b59add",
   "metadata": {},
   "source": [
    ">>> By using the abc module, one can define abstract classes and abstract methods, providing a way to create a blueprint for subclasses while ensuring that specific behaviors are implemented consistently across subclasses. It promotes code reusability and provides a clear structure for object-oriented designs."
   ]
  },
  {
   "cell_type": "raw",
   "id": "104fa116-3ec7-439c-8661-bac8fed09960",
   "metadata": {},
   "source": [
    "Q4. How can we achieve data abstraction? Couldnt answer."
   ]
  },
  {
   "cell_type": "raw",
   "id": "cafaaf11-c6a7-44bb-9cf0-04e449c2ad2c",
   "metadata": {},
   "source": [
    "Q5. Can we create an instance of an abstract class? Explain your answer."
   ]
  }
 ],
 "metadata": {
  "kernelspec": {
   "display_name": "Python 3 (ipykernel)",
   "language": "python",
   "name": "python3"
  },
  "language_info": {
   "codemirror_mode": {
    "name": "ipython",
    "version": 3
   },
   "file_extension": ".py",
   "mimetype": "text/x-python",
   "name": "python",
   "nbconvert_exporter": "python",
   "pygments_lexer": "ipython3",
   "version": "3.10.8"
  }
 },
 "nbformat": 4,
 "nbformat_minor": 5
}
